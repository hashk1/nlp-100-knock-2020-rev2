{
  "nbformat": 4,
  "nbformat_minor": 0,
  "metadata": {
    "kernelspec": {
      "display_name": "Python 3",
      "language": "python",
      "name": "python3"
    },
    "language_info": {
      "codemirror_mode": {
        "name": "ipython",
        "version": 3
      },
      "file_extension": ".py",
      "mimetype": "text/x-python",
      "name": "python",
      "nbconvert_exporter": "python",
      "pygments_lexer": "ipython3",
      "version": "3.8.3"
    },
    "colab": {
      "name": "07-単語ベクトル.ipynb",
      "provenance": [],
      "include_colab_link": true
    }
  },
  "cells": [
    {
      "cell_type": "markdown",
      "metadata": {
        "id": "view-in-github",
        "colab_type": "text"
      },
      "source": [
        "<a href=\"https://colab.research.google.com/github/hashk1/nlp-100-knock-2020-rev2/blob/main/07-%E5%8D%98%E8%AA%9E%E3%83%99%E3%82%AF%E3%83%88%E3%83%AB.ipynb\" target=\"_parent\"><img src=\"https://colab.research.google.com/assets/colab-badge.svg\" alt=\"Open In Colab\"/></a>"
      ]
    },
    {
      "cell_type": "markdown",
      "metadata": {
        "id": "sHDlcQ-sVOoH"
      },
      "source": [
        "# 第7章: 単語ベクトル"
      ]
    },
    {
      "cell_type": "code",
      "metadata": {
        "id": "7Rz201BFVOoO"
      },
      "source": [
        "# ライブラリ読み込み\n",
        "import numpy as np\n",
        "import pandas as pd\n",
        "import matplotlib.pyplot as plt\n",
        "from scipy.cluster.hierarchy import dendrogram, linkage\n",
        "from gensim.models import KeyedVectors\n",
        "from sklearn.metrics import accuracy_score\n",
        "from sklearn.cluster import KMeans\n",
        "from sklearn.manifold import TSNE\n",
        "from tqdm import tqdm\n",
        "tqdm.pandas()\n",
        "%matplotlib inline"
      ],
      "execution_count": null,
      "outputs": []
    },
    {
      "cell_type": "code",
      "metadata": {
        "id": "il7F9_NgVOoP"
      },
      "source": [
        "# データ取得\n",
        "! wget -c https://s3.amazonaws.com/dl4j-distribution/GoogleNews-vectors-negative300.bin.gz\n",
        "! wget -c http://download.tensorflow.org/data/questions-words.txt\n",
        "! wget -c http://www.gabrilovich.com/resources/data/wordsim353/wordsim353.zip\n",
        "! unzip -o -d wordsim353 wordsim353.zip\n",
        "! wget -c https://gist.githubusercontent.com/cupnoodlegirl/ba10cf7a412a1840714c/raw/0fbb6a53a35d5461ccf2ae6d97ec5cc5155e758a/country_list.csv"
      ],
      "execution_count": null,
      "outputs": []
    },
    {
      "cell_type": "markdown",
      "metadata": {
        "id": "Z0SDOSsHVOoQ"
      },
      "source": [
        "### 60. 単語ベクトルの読み込みと表示"
      ]
    },
    {
      "cell_type": "code",
      "metadata": {
        "id": "rmFBvXmaVOoR"
      },
      "source": [
        "model = KeyedVectors.load_word2vec_format(\"GoogleNews-vectors-negative300.bin.gz\", binary=True)"
      ],
      "execution_count": null,
      "outputs": []
    },
    {
      "cell_type": "code",
      "metadata": {
        "scrolled": true,
        "id": "Fviy3vKEVOoR"
      },
      "source": [
        "model[\"United_States\"]"
      ],
      "execution_count": null,
      "outputs": []
    },
    {
      "cell_type": "markdown",
      "metadata": {
        "id": "rHn-mcDSVOoR"
      },
      "source": [
        "### 61. 単語の類似度"
      ]
    },
    {
      "cell_type": "code",
      "metadata": {
        "id": "gxymVbkSVOoR"
      },
      "source": [
        "def cosine(v1, v2):\n",
        "    return np.dot(v1, v2) / (np.linalg.norm(v1) * np.linalg.norm(v2))"
      ],
      "execution_count": null,
      "outputs": []
    },
    {
      "cell_type": "code",
      "metadata": {
        "id": "by-TBBPhVOoS"
      },
      "source": [
        "cosine(model[\"United_States\"], model[\"U.S.\"])"
      ],
      "execution_count": null,
      "outputs": []
    },
    {
      "cell_type": "markdown",
      "metadata": {
        "id": "ItM9hgESVOoS"
      },
      "source": [
        "### 62. 類似度の高い単語10件"
      ]
    },
    {
      "cell_type": "code",
      "metadata": {
        "id": "tLyBEuZxVOoS"
      },
      "source": [
        "model.most_similar(\"United_States\", topn = 10)"
      ],
      "execution_count": null,
      "outputs": []
    },
    {
      "cell_type": "markdown",
      "metadata": {
        "id": "Df3fgn-mVOoS"
      },
      "source": [
        "### 63. 加法構成性によるアナロジー"
      ]
    },
    {
      "cell_type": "code",
      "metadata": {
        "id": "mcaGOOwJVOoS"
      },
      "source": [
        "model.most_similar(positive=[\"Spain\", \"Athens\"], negative=[\"Madrid\"], topn=10)"
      ],
      "execution_count": null,
      "outputs": []
    },
    {
      "cell_type": "markdown",
      "metadata": {
        "id": "Ns1Z318hVOoT"
      },
      "source": [
        "### 64. アナロジーデータでの実験"
      ]
    },
    {
      "cell_type": "code",
      "metadata": {
        "id": "OJB5Bul7VOoT"
      },
      "source": [
        "! head -n 10 questions-words.txt"
      ],
      "execution_count": null,
      "outputs": []
    },
    {
      "cell_type": "code",
      "metadata": {
        "id": "cMik94XhVOoT"
      },
      "source": [
        "# 64. と 65. まとめて計算する\n",
        "d = [[] for _ in range(5)]\n",
        "header = None\n",
        "with open(\"questions-words.txt\") as f:\n",
        "    for line in f.readlines():\n",
        "        if line[0] == \":\":\n",
        "            header = \"syntactic\" if line.startswith(\": gram\") else \"semantic\"\n",
        "            continue\n",
        "        ws = line.strip().split()\n",
        "        d[0].append(header)\n",
        "        for i in range(4):\n",
        "            d[i+1].append(ws[i]) \n",
        "\n",
        "df = pd.DataFrame(\n",
        "    {\"header\": d[0], \"w1\": d[1], \"w2\": d[2], \"w3\": d[3], \"w4\": d[4]}, \n",
        "    columns = [\"header\", \"w1\", \"w2\", \"w3\", \"w4\"]\n",
        ")\n",
        "df.head()"
      ],
      "execution_count": null,
      "outputs": []
    },
    {
      "cell_type": "code",
      "metadata": {
        "id": "vViZ_tnEVOoT"
      },
      "source": [
        "def most_similar_from_row(row):\n",
        "    global model\n",
        "    best = model.most_similar(positive=[row[\"w2\"], row[\"w3\"]], negative=[row[\"w1\"]], topn=1)[0]\n",
        "    return pd.Series(best)"
      ],
      "execution_count": null,
      "outputs": []
    },
    {
      "cell_type": "code",
      "metadata": {
        "id": "NfZ18pEcVOoU"
      },
      "source": [
        "df[[\"most\", \"score\"]] = df.progress_apply(most_similar_from_row, axis=1)"
      ],
      "execution_count": null,
      "outputs": []
    },
    {
      "cell_type": "code",
      "metadata": {
        "id": "2Uu01rbqrfcS"
      },
      "source": [
        "# DataFrameを保存\n",
        "df.to_csv(\"question-words-df.txt\", sep=\"\\t\", index=False, header=True)"
      ],
      "execution_count": null,
      "outputs": []
    },
    {
      "cell_type": "code",
      "metadata": {
        "id": "K-tkcNzgVOoU"
      },
      "source": [
        "df[[\"w1\", \"w2\", \"w3\", \"w4\", \"most\", \"score\"]].head()"
      ],
      "execution_count": null,
      "outputs": []
    },
    {
      "cell_type": "markdown",
      "metadata": {
        "id": "WluH3pQlVOoU"
      },
      "source": [
        "### 65. アナロジータスクでの正解率"
      ]
    },
    {
      "cell_type": "code",
      "metadata": {
        "id": "CylSTEkuVOoU"
      },
      "source": [
        "semantic = df.query(\"header == 'semantic'\")\n",
        "syntactic = df.query(\"header == 'syntactic'\")\n",
        "\n",
        "print(\"accuracy for semantic analogy: {}\".format((semantic[\"w4\"] == semantic[\"most\"]).sum() / len(semantic)))\n",
        "print(\"accuracy for syntactic analogy: {}\".format((syntactic[\"w4\"] == syntactic[\"most\"]).sum() / len(syntactic)))"
      ],
      "execution_count": null,
      "outputs": []
    },
    {
      "cell_type": "markdown",
      "metadata": {
        "id": "FPgFOF3XVOoU"
      },
      "source": [
        "### 66. WordSimilarity-353での評価"
      ]
    },
    {
      "cell_type": "code",
      "metadata": {
        "id": "3pkb_YxvVOoV"
      },
      "source": [
        "df2 = pd.read_csv(\"wordsim353/combined.csv\")\n",
        "df2.head()"
      ],
      "execution_count": null,
      "outputs": []
    },
    {
      "cell_type": "code",
      "metadata": {
        "id": "LEnsQNYAVOoV"
      },
      "source": [
        "def cosine_from_row(row):\n",
        "    global model\n",
        "    v1 = model[row[\"Word 1\"]]\n",
        "    v2 = model[row[\"Word 2\"]]\n",
        "    return cosine(v1, v2)"
      ],
      "execution_count": null,
      "outputs": []
    },
    {
      "cell_type": "code",
      "metadata": {
        "id": "3Cp78wTHVOoV"
      },
      "source": [
        "df2[\"similarity\"] = df2.apply(cosine_from_row, axis = 1)\n",
        "df2.head()"
      ],
      "execution_count": null,
      "outputs": []
    },
    {
      "cell_type": "code",
      "metadata": {
        "id": "oOy3p2nJVOoV"
      },
      "source": [
        "df2[[\"Human (mean)\", \"similarity\"]].corr(method=\"spearman\")"
      ],
      "execution_count": null,
      "outputs": []
    },
    {
      "cell_type": "markdown",
      "metadata": {
        "id": "On6Mj-xCVOoV"
      },
      "source": [
        "### 67. k-meansクラスタリング"
      ]
    },
    {
      "cell_type": "code",
      "metadata": {
        "id": "yguezVAuVOoV"
      },
      "source": [
        "# 以下の問題で共通して使用する\n",
        "countries = list(pd.read_csv(\"country_list.csv\")[\"ISO 3166-1に於ける英語名\"].map(lambda x: x.replace(\" \", \"_\")))\n",
        "countries = [country for country in countries if country in model.vocab]\n",
        "vecs = [model[country] for country in countries]"
      ],
      "execution_count": null,
      "outputs": []
    },
    {
      "cell_type": "code",
      "metadata": {
        "scrolled": true,
        "id": "ZQ9dca9ZVOoV"
      },
      "source": [
        "K = 5\n",
        "X = np.array(vecs)\n",
        "kmeans = KMeans(n_clusters=K, random_state=0)\n",
        "cluster_ids = kmeans.fit_predict(X)\n",
        "\n",
        "df3 = pd.DataFrame(\n",
        "    {\"country\": countries, \"cluster_id\": cluster_ids},\n",
        "    columns = [\"country\", \"cluster_id\"]\n",
        ")\n",
        "\n",
        "df3"
      ],
      "execution_count": null,
      "outputs": []
    },
    {
      "cell_type": "markdown",
      "metadata": {
        "id": "rChWBztMVOoW"
      },
      "source": [
        "### 68. Ward法によるクラスタリング"
      ]
    },
    {
      "cell_type": "code",
      "metadata": {
        "id": "PFuXvFqvVOoW"
      },
      "source": [
        "X = np.array(vecs)\n",
        "cluster_ids2 = linkage(X, method=\"ward\")\n",
        "\n",
        "plt.figure(num=None, figsize=(16, 12), dpi=200, facecolor=\"w\", edgecolor=\"k\")\n",
        "dendrogram(cluster_ids2, labels=countries)\n",
        "plt.show()"
      ],
      "execution_count": null,
      "outputs": []
    },
    {
      "cell_type": "markdown",
      "metadata": {
        "id": "azCbIkN6VOoW"
      },
      "source": [
        "### 69. t-SNEによる可視化"
      ]
    },
    {
      "cell_type": "code",
      "metadata": {
        "id": "ezev7lpfVOoW"
      },
      "source": [
        "X = np.array(vecs)\n",
        "tsne = TSNE(random_state=0)\n",
        "embs = tsne.fit_transform(X)\n",
        "\n",
        "fig = plt.figure(figsize=(12, 12))\n",
        "ax = fig.add_subplot(1, 1, 1)\n",
        "\n",
        "for i in range(len(countries)):\n",
        "    ax.annotate(countries[i], embs[i])\n",
        "\n",
        "plt.scatter(embs[:, 0], embs[:, 1])\n",
        "plt.show()"
      ],
      "execution_count": null,
      "outputs": []
    },
    {
      "cell_type": "code",
      "metadata": {
        "id": "52gwLynUVOoW"
      },
      "source": [
        ""
      ],
      "execution_count": null,
      "outputs": []
    }
  ]
}