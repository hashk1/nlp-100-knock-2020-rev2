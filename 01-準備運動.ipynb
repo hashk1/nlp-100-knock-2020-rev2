{
  "nbformat": 4,
  "nbformat_minor": 0,
  "metadata": {
    "kernelspec": {
      "display_name": "Python 3",
      "language": "python",
      "name": "python3"
    },
    "language_info": {
      "codemirror_mode": {
        "name": "ipython",
        "version": 3
      },
      "file_extension": ".py",
      "mimetype": "text/x-python",
      "name": "python",
      "nbconvert_exporter": "python",
      "pygments_lexer": "ipython3",
      "version": "3.8.3"
    },
    "colab": {
      "name": "01-準備運動.ipynb",
      "provenance": [],
      "include_colab_link": true
    }
  },
  "cells": [
    {
      "cell_type": "markdown",
      "metadata": {
        "id": "view-in-github",
        "colab_type": "text"
      },
      "source": [
        "<a href=\"https://colab.research.google.com/github/hashk1/nlp-100-knock-2020-rev2/blob/main/01-%E6%BA%96%E5%82%99%E9%81%8B%E5%8B%95.ipynb\" target=\"_parent\"><img src=\"https://colab.research.google.com/assets/colab-badge.svg\" alt=\"Open In Colab\"/></a>"
      ]
    },
    {
      "cell_type": "markdown",
      "metadata": {
        "id": "Y720sOD7gq11"
      },
      "source": [
        "# 第1章: 準備運動"
      ]
    },
    {
      "cell_type": "code",
      "metadata": {
        "id": "zRbZVBzIgq14"
      },
      "source": [
        "# ライブラリ読み込み\n",
        "import random"
      ],
      "execution_count": null,
      "outputs": []
    },
    {
      "cell_type": "markdown",
      "metadata": {
        "id": "KBJfz50ggq15"
      },
      "source": [
        "### 00. 文字列の逆順"
      ]
    },
    {
      "cell_type": "code",
      "metadata": {
        "id": "CnZ2RYJCgq15"
      },
      "source": [
        "\"stressed\"[::-1]"
      ],
      "execution_count": null,
      "outputs": []
    },
    {
      "cell_type": "markdown",
      "metadata": {
        "id": "HcljxoUXgq15"
      },
      "source": [
        "### 01. 「パタトクカシー」"
      ]
    },
    {
      "cell_type": "code",
      "metadata": {
        "id": "Khc6-MsJgq16"
      },
      "source": [
        "\"パタトクカシー\"[0::2]"
      ],
      "execution_count": null,
      "outputs": []
    },
    {
      "cell_type": "markdown",
      "metadata": {
        "id": "jYKcQ62Mgq16"
      },
      "source": [
        "### 02. 「パトカー」＋「タクシー」＝「パタトクカシーー」"
      ]
    },
    {
      "cell_type": "code",
      "metadata": {
        "id": "98kHtK74gq16"
      },
      "source": [
        "\"\".join([a + b for a, b in zip(\"パトカー\", \"タクシー\")])"
      ],
      "execution_count": null,
      "outputs": []
    },
    {
      "cell_type": "markdown",
      "metadata": {
        "id": "fzMlHoBdgq16"
      },
      "source": [
        "### 03. 円周率"
      ]
    },
    {
      "cell_type": "code",
      "metadata": {
        "id": "IZiCPerTgq16"
      },
      "source": [
        "[len(w) for w in \"Now I need a drink, alcoholic of course, after the heavy lectures involving quantum mechanics.\".replace(\",\", \"\").replace(\".\", \"\").split()]"
      ],
      "execution_count": null,
      "outputs": []
    },
    {
      "cell_type": "markdown",
      "metadata": {
        "id": "IEwp0WJdgq17"
      },
      "source": [
        "### 04. 元素記号"
      ]
    },
    {
      "cell_type": "code",
      "metadata": {
        "id": "t--IKqr5gq17"
      },
      "source": [
        "{a : b + 1 for a, b in  [(w[0], 0)   if i in [0, 4, 5, 6, 7, 8, 14, 15, 18] else (w[1], 1)  for i, w in enumerate(\"Hi He Lied Because Boron Could Not Oxidize Fluorine. New Nations Might Also Sign Peace Security Clause. Arthur King Can.\".split()) ]}"
      ],
      "execution_count": null,
      "outputs": []
    },
    {
      "cell_type": "markdown",
      "metadata": {
        "id": "59zADgv3gq17"
      },
      "source": [
        "### 05. n-gram"
      ]
    },
    {
      "cell_type": "code",
      "metadata": {
        "id": "2_6at2Svgq17"
      },
      "source": [
        "# word bi-gram\n",
        "ws = \"I am an NLPer\".split()\n",
        "[(ws[i],ws[i+1]) for i in range(len(ws) - 1)]"
      ],
      "execution_count": null,
      "outputs": []
    },
    {
      "cell_type": "code",
      "metadata": {
        "id": "xRrpAH1Vgq17"
      },
      "source": [
        "# character bi-gram\n",
        "ws = \"I am an NLPer\"\n",
        "[(ws[i], ws[i+1]) for i in range(len(ws) - 1)]"
      ],
      "execution_count": null,
      "outputs": []
    },
    {
      "cell_type": "markdown",
      "metadata": {
        "id": "gzSZ438Zgq17"
      },
      "source": [
        "### 06. 集合"
      ]
    },
    {
      "cell_type": "code",
      "metadata": {
        "id": "BQkHuHY2gq17"
      },
      "source": [
        "ws = \"paraparaparadise\"\n",
        "X = set([(ws[i], ws[i+1]) for i in range(len(ws) - 1)])\n",
        "ws = \"paragraph\"\n",
        "Y = set([(ws[i], ws[i+1]) for i in range(len(ws) - 1)])"
      ],
      "execution_count": null,
      "outputs": []
    },
    {
      "cell_type": "code",
      "metadata": {
        "id": "gDfGMz4xgq18"
      },
      "source": [
        "# 和集合\n",
        "X | Y "
      ],
      "execution_count": null,
      "outputs": []
    },
    {
      "cell_type": "code",
      "metadata": {
        "id": "MsL2nbbTgq18"
      },
      "source": [
        "# 積集合\n",
        "X & Y"
      ],
      "execution_count": null,
      "outputs": []
    },
    {
      "cell_type": "code",
      "metadata": {
        "id": "klMnJ0Awgq18"
      },
      "source": [
        "# 差集合\n",
        "X - Y"
      ],
      "execution_count": null,
      "outputs": []
    },
    {
      "cell_type": "code",
      "metadata": {
        "id": "49OrOu96gq18"
      },
      "source": [
        "# se\" は X および Y に含まれるかどうか\n",
        "(\"s\", \"e\") in (X & Y)"
      ],
      "execution_count": null,
      "outputs": []
    },
    {
      "cell_type": "markdown",
      "metadata": {
        "id": "lp25-c3bgq18"
      },
      "source": [
        "### 07. テンプレートによる文生成"
      ]
    },
    {
      "cell_type": "code",
      "metadata": {
        "id": "WDnh3FNpgq18"
      },
      "source": [
        "def template(x, y, z):\n",
        "    return \"{}時の{}は{}\".format(x, y, z)"
      ],
      "execution_count": null,
      "outputs": []
    },
    {
      "cell_type": "code",
      "metadata": {
        "id": "OgM-_AKBgq19"
      },
      "source": [
        "template(12, \"気温\", 22.4)"
      ],
      "execution_count": null,
      "outputs": []
    },
    {
      "cell_type": "markdown",
      "metadata": {
        "id": "UWtudIdNgq19"
      },
      "source": [
        "### 08. 暗号文"
      ]
    },
    {
      "cell_type": "code",
      "metadata": {
        "id": "p9GknJEDgq19"
      },
      "source": [
        "def cipher(ws):\n",
        "    return \"\".join([chr(219 - ord(w)) if w.islower() else w for w in ws])"
      ],
      "execution_count": null,
      "outputs": []
    },
    {
      "cell_type": "code",
      "metadata": {
        "id": "klCHYNVGgq19"
      },
      "source": [
        "cipher(\"I am an NLPer\")"
      ],
      "execution_count": null,
      "outputs": []
    },
    {
      "cell_type": "code",
      "metadata": {
        "id": "uc7DBpI-gq19"
      },
      "source": [
        "cipher(cipher(\"I am an NLPer\"))"
      ],
      "execution_count": null,
      "outputs": []
    },
    {
      "cell_type": "markdown",
      "metadata": {
        "id": "CyAdSFlXgq19"
      },
      "source": [
        "### 09. Typoglycemia"
      ]
    },
    {
      "cell_type": "code",
      "metadata": {
        "id": "2ShTRiK5gq19"
      },
      "source": [
        "def typoglycemia(ws):\n",
        "    return \" \".join([w if len(w) <= 4 else \"\".join([w[0], \"\".join(random.sample([e for e in w[1:len(w) - 1]], len(w) - 2)), w[len(w) - 1]]) for w in ws.split()])"
      ],
      "execution_count": null,
      "outputs": []
    },
    {
      "cell_type": "code",
      "metadata": {
        "id": "BU8df6vigq19"
      },
      "source": [
        "typoglycemia(\"I couldn’t believe that I could actually understand what I was reading : the phenomenal power of the human mind .\")"
      ],
      "execution_count": null,
      "outputs": []
    },
    {
      "cell_type": "code",
      "metadata": {
        "id": "bIK8n1EVgq1-"
      },
      "source": [
        ""
      ],
      "execution_count": null,
      "outputs": []
    }
  ]
}