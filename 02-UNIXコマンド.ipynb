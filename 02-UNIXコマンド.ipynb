{
  "nbformat": 4,
  "nbformat_minor": 0,
  "metadata": {
    "kernelspec": {
      "display_name": "Python 3",
      "language": "python",
      "name": "python3"
    },
    "language_info": {
      "codemirror_mode": {
        "name": "ipython",
        "version": 3
      },
      "file_extension": ".py",
      "mimetype": "text/x-python",
      "name": "python",
      "nbconvert_exporter": "python",
      "pygments_lexer": "ipython3",
      "version": "3.8.3"
    },
    "colab": {
      "name": "02-UNIXコマンド.ipynb",
      "provenance": [],
      "include_colab_link": true
    }
  },
  "cells": [
    {
      "cell_type": "markdown",
      "metadata": {
        "id": "view-in-github",
        "colab_type": "text"
      },
      "source": [
        "<a href=\"https://colab.research.google.com/github/hashk1/nlp-100-knock-2020-rev2/blob/main/02-UNIX%E3%82%B3%E3%83%9E%E3%83%B3%E3%83%89.ipynb\" target=\"_parent\"><img src=\"https://colab.research.google.com/assets/colab-badge.svg\" alt=\"Open In Colab\"/></a>"
      ]
    },
    {
      "cell_type": "markdown",
      "metadata": {
        "id": "hUT06eE5kkM7"
      },
      "source": [
        "# 第2章: UNIXコマンド"
      ]
    },
    {
      "cell_type": "code",
      "metadata": {
        "id": "8vTT4YTakkNF"
      },
      "source": [
        "# ライブラリ読み込み\n",
        "import pandas as pd\n",
        "import sys"
      ],
      "execution_count": null,
      "outputs": []
    },
    {
      "cell_type": "code",
      "metadata": {
        "id": "dtFi9w5wkkNH"
      },
      "source": [
        "# データ取得\n",
        "! wget -c https://nlp100.github.io/data/popular-names.txt"
      ],
      "execution_count": null,
      "outputs": []
    },
    {
      "cell_type": "markdown",
      "metadata": {
        "id": "StLPc3l0kkNH"
      },
      "source": [
        "### 10. 行数のカウント"
      ]
    },
    {
      "cell_type": "code",
      "metadata": {
        "id": "_94lv7VvkkNI"
      },
      "source": [
        "len(pd.read_table(\"popular-names.txt\", header=None))"
      ],
      "execution_count": null,
      "outputs": []
    },
    {
      "cell_type": "code",
      "metadata": {
        "id": "HMZVaKdukkNI"
      },
      "source": [
        "! wc -l popular-names.txt"
      ],
      "execution_count": null,
      "outputs": []
    },
    {
      "cell_type": "markdown",
      "metadata": {
        "id": "r9WoLsFOkkNJ"
      },
      "source": [
        "### 11. タブをスペースに置換"
      ]
    },
    {
      "cell_type": "code",
      "metadata": {
        "scrolled": true,
        "id": "EQuDIvnmkkNJ"
      },
      "source": [
        "pd.read_csv(\"popular-names.txt\", sep=\"\\t\", header=None).to_csv(sys.stdout, sep=\" \", header=None, index=False)"
      ],
      "execution_count": null,
      "outputs": []
    },
    {
      "cell_type": "code",
      "metadata": {
        "id": "N_BwettakkNK"
      },
      "source": [
        "! cat popular-names.txt  | tr \"\\t\" \" \""
      ],
      "execution_count": null,
      "outputs": []
    },
    {
      "cell_type": "markdown",
      "metadata": {
        "id": "NUQ5lelPkkNK"
      },
      "source": [
        "### 12. 1列目をcol1.txtに，2列目をcol2.txtに保存"
      ]
    },
    {
      "cell_type": "code",
      "metadata": {
        "id": "r09iLp6EkkNK"
      },
      "source": [
        "pd.read_csv(\"popular-names.txt\", sep=\"\\t\", header=None)[0].to_csv(\"col1.txt\", header=None, index=False)\n",
        "pd.read_csv(\"popular-names.txt\", sep=\"\\t\", header=None)[1].to_csv(\"col2.txt\", header=None, index=False)"
      ],
      "execution_count": null,
      "outputs": []
    },
    {
      "cell_type": "code",
      "metadata": {
        "id": "0GFBSVRRkkNK"
      },
      "source": [
        "! cat col1.txt"
      ],
      "execution_count": null,
      "outputs": []
    },
    {
      "cell_type": "code",
      "metadata": {
        "id": "9qiL-5Y8kkNL"
      },
      "source": [
        "! cat col2.txt"
      ],
      "execution_count": null,
      "outputs": []
    },
    {
      "cell_type": "code",
      "metadata": {
        "id": "vfMtydV7kkNL"
      },
      "source": [
        "! cut -d $'\\t' -f 1 popular-names.txt > col1a.txt\n",
        "! cut -d $'\\t' -f 2 popular-names.txt > col2a.txt"
      ],
      "execution_count": null,
      "outputs": []
    },
    {
      "cell_type": "code",
      "metadata": {
        "id": "KCLUhn4kkkNL"
      },
      "source": [
        "! diff col1.txt col1a.txt"
      ],
      "execution_count": null,
      "outputs": []
    },
    {
      "cell_type": "code",
      "metadata": {
        "id": "zWSPnwdGkkNL"
      },
      "source": [
        "! diff col2.txt col2a.txt"
      ],
      "execution_count": null,
      "outputs": []
    },
    {
      "cell_type": "markdown",
      "metadata": {
        "id": "cHIQnG9zkkNL"
      },
      "source": [
        "### 13. col1.txtとcol2.txtをマージ"
      ]
    },
    {
      "cell_type": "code",
      "metadata": {
        "id": "qkTpVaR9kkNL"
      },
      "source": [
        "pd.concat([pd.read_csv(\"col1.txt\", header=None), pd.read_csv(\"col2.txt\", header=None)], axis=1).to_csv(\"col12.txt\", sep=\"\\t\", header=None, index=False)"
      ],
      "execution_count": null,
      "outputs": []
    },
    {
      "cell_type": "code",
      "metadata": {
        "id": "l4xfUnAgkkNM"
      },
      "source": [
        "! cat col12.txt"
      ],
      "execution_count": null,
      "outputs": []
    },
    {
      "cell_type": "code",
      "metadata": {
        "id": "XTqfQhDckkNM"
      },
      "source": [
        "! paste -d \"\\t\" col1.txt col2.txt > col12a.txt"
      ],
      "execution_count": null,
      "outputs": []
    },
    {
      "cell_type": "code",
      "metadata": {
        "id": "5aFrXzFjkkNM"
      },
      "source": [
        "! diff col12.txt col12a.txt"
      ],
      "execution_count": null,
      "outputs": []
    },
    {
      "cell_type": "markdown",
      "metadata": {
        "id": "j8qwadawkkNM"
      },
      "source": [
        "### 14. 先頭からN行を出力"
      ]
    },
    {
      "cell_type": "code",
      "metadata": {
        "id": "D-yRL6VVkkNM"
      },
      "source": [
        "N = 10\n",
        "pd.read_csv(\"popular-names.txt\", sep=\"\\t\", header=None).head(N)"
      ],
      "execution_count": null,
      "outputs": []
    },
    {
      "cell_type": "code",
      "metadata": {
        "id": "YH1YYr1IkkNM"
      },
      "source": [
        "! head -n 10 popular-names.txt"
      ],
      "execution_count": null,
      "outputs": []
    },
    {
      "cell_type": "markdown",
      "metadata": {
        "id": "QDkKx696kkNN"
      },
      "source": [
        "### 15. 末尾のN行を出力"
      ]
    },
    {
      "cell_type": "code",
      "metadata": {
        "id": "i6C2ZnorkkNN"
      },
      "source": [
        "N = 10\n",
        "pd.read_csv(\"popular-names.txt\", sep=\"\\t\", header=None).tail(N)"
      ],
      "execution_count": null,
      "outputs": []
    },
    {
      "cell_type": "code",
      "metadata": {
        "id": "Lw-DPlcckkNN"
      },
      "source": [
        "! tail -n 10 popular-names.txt"
      ],
      "execution_count": null,
      "outputs": []
    },
    {
      "cell_type": "markdown",
      "metadata": {
        "id": "o5fn-bxPkkNN"
      },
      "source": [
        "### 16. ファイルをN分割する"
      ]
    },
    {
      "cell_type": "code",
      "metadata": {
        "id": "g_4UYetnkkNN"
      },
      "source": [
        "N = 5\n",
        "df = pd.read_csv(\"popular-names.txt\", sep=\"\\t\", header=None)\n",
        "for i in range(N):\n",
        "     df[int(i * len(df) / N + 0.5):int((i+1) * len(df) / N + 0.5)].to_csv(\"popular-names-{}.txt\".format(i), sep=\"\\t\", header=None, index=False)"
      ],
      "execution_count": null,
      "outputs": []
    },
    {
      "cell_type": "code",
      "metadata": {
        "id": "Vd-ocp1akkNN"
      },
      "source": [
        "! wc -l popular-names-*.txt"
      ],
      "execution_count": null,
      "outputs": []
    },
    {
      "cell_type": "code",
      "metadata": {
        "id": "gOSFuMARkkNN"
      },
      "source": [
        "! split -n 5 popular-names.txt"
      ],
      "execution_count": null,
      "outputs": []
    },
    {
      "cell_type": "code",
      "metadata": {
        "id": "1tSTdupYkkNN"
      },
      "source": [
        "! wc -l x*"
      ],
      "execution_count": null,
      "outputs": []
    },
    {
      "cell_type": "markdown",
      "metadata": {
        "id": "Hcur0J6WkkNO"
      },
      "source": [
        "### 17. 1列目の文字列の異なり"
      ]
    },
    {
      "cell_type": "code",
      "metadata": {
        "id": "EE6jELyKkkNO"
      },
      "source": [
        "set(pd.read_csv(\"popular-names.txt\", sep=\"\\t\", header=None)[0])"
      ],
      "execution_count": null,
      "outputs": []
    },
    {
      "cell_type": "code",
      "metadata": {
        "id": "OIcH7A_PkkNO"
      },
      "source": [
        "! cut -d $'\\t' -f 1 popular-names.txt | sort -u"
      ],
      "execution_count": null,
      "outputs": []
    },
    {
      "cell_type": "markdown",
      "metadata": {
        "id": "b3lZ6p5ikkNO"
      },
      "source": [
        "### 18. 各行を3コラム目の数値の降順にソート"
      ]
    },
    {
      "cell_type": "code",
      "metadata": {
        "id": "13v3avYXkkNO"
      },
      "source": [
        "pd.read_csv(\"popular-names.txt\", sep=\"\\t\", header=None).sort_values(2, ascending = False)"
      ],
      "execution_count": null,
      "outputs": []
    },
    {
      "cell_type": "code",
      "metadata": {
        "id": "uGCjo_M-kkNO"
      },
      "source": [
        "! sort -k 3,3nr popular-names.txt"
      ],
      "execution_count": null,
      "outputs": []
    },
    {
      "cell_type": "markdown",
      "metadata": {
        "id": "93w7UuwtkkNO"
      },
      "source": [
        "### 19. 各行の1コラム目の文字列の出現頻度を求め、出現頻度の高い順に並べる"
      ]
    },
    {
      "cell_type": "code",
      "metadata": {
        "id": "E3FENiLDkkNO"
      },
      "source": [
        "pd.read_csv(\"popular-names.txt\", sep=\"\\t\", header=None)[0].value_counts()"
      ],
      "execution_count": null,
      "outputs": []
    },
    {
      "cell_type": "code",
      "metadata": {
        "id": "tSeBWQDbkkNP"
      },
      "source": [
        "! cut -d $'\\t' -f 1 popular-names.txt | LANG=C sort | uniq -c | sort -k1,1nr"
      ],
      "execution_count": null,
      "outputs": []
    },
    {
      "cell_type": "code",
      "metadata": {
        "id": "p8gW_obYkkNP"
      },
      "source": [
        ""
      ],
      "execution_count": null,
      "outputs": []
    }
  ]
}