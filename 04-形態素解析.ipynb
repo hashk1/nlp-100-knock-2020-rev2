{
  "nbformat": 4,
  "nbformat_minor": 0,
  "metadata": {
    "kernelspec": {
      "display_name": "Python 3",
      "language": "python",
      "name": "python3"
    },
    "language_info": {
      "codemirror_mode": {
        "name": "ipython",
        "version": 3
      },
      "file_extension": ".py",
      "mimetype": "text/x-python",
      "name": "python",
      "nbconvert_exporter": "python",
      "pygments_lexer": "ipython3",
      "version": "3.8.3"
    },
    "colab": {
      "name": "04-形態素解析.ipynb",
      "provenance": [],
      "include_colab_link": true
    }
  },
  "cells": [
    {
      "cell_type": "markdown",
      "metadata": {
        "id": "view-in-github",
        "colab_type": "text"
      },
      "source": [
        "<a href=\"https://colab.research.google.com/github/hashk1/nlp-100-knock-2020-rev2/blob/main/04-%E5%BD%A2%E6%85%8B%E7%B4%A0%E8%A7%A3%E6%9E%90.ipynb\" target=\"_parent\"><img src=\"https://colab.research.google.com/assets/colab-badge.svg\" alt=\"Open In Colab\"/></a>"
      ]
    },
    {
      "cell_type": "markdown",
      "metadata": {
        "id": "gre-cwvqqKuF"
      },
      "source": [
        "# 第4章: 形態素解析"
      ]
    },
    {
      "cell_type": "code",
      "metadata": {
        "id": "vfLET8HzqmX2"
      },
      "source": [
        "# MeCabとIPAフォントのインストール\n",
        "! apt install -y mecab mecab-ipadic-utf8 fonts-ipafont-gothic"
      ],
      "execution_count": null,
      "outputs": []
    },
    {
      "cell_type": "code",
      "metadata": {
        "id": "p-2RkbGuud5j"
      },
      "source": [
        "# matplotlibのキャッシュをクリア\n",
        "! rm -fr /root/.cache/matplotlib/*"
      ],
      "execution_count": null,
      "outputs": []
    },
    {
      "cell_type": "markdown",
      "metadata": {
        "id": "GSSzRwDvsWA_"
      },
      "source": [
        "## ここで一度再起動を行ってください。再起動後はここから続けてください。"
      ]
    },
    {
      "cell_type": "code",
      "metadata": {
        "id": "3xUYII9AqKuM"
      },
      "source": [
        "# ライブラリ読み込み\n",
        "import matplotlib as mpl\n",
        "import matplotlib.pyplot as plt\n",
        "%matplotlib inline\n",
        "mpl.rcParams['font.family'] = 'IPAGothic'"
      ],
      "execution_count": null,
      "outputs": []
    },
    {
      "cell_type": "code",
      "metadata": {
        "id": "a4sC6TPyqKuN"
      },
      "source": [
        "# データ取得\n",
        "! wget -c https://nlp100.github.io/data/neko.txt"
      ],
      "execution_count": null,
      "outputs": []
    },
    {
      "cell_type": "code",
      "metadata": {
        "id": "DolHn1NoqKuN"
      },
      "source": [
        "# 形態素解析\n",
        "! mecab neko.txt > neko.txt.mecab"
      ],
      "execution_count": null,
      "outputs": []
    },
    {
      "cell_type": "markdown",
      "metadata": {
        "id": "lfP-g0GtqKuN"
      },
      "source": [
        "### 30. 形態素解析結果の読み込み"
      ]
    },
    {
      "cell_type": "code",
      "metadata": {
        "id": "X43VH2rkqKuO"
      },
      "source": [
        "d = []\n",
        "with open(\"neko.txt.mecab\") as f:\n",
        "    for lines in f.read().split(\"EOS\\n\"):\n",
        "        morphs = []\n",
        "        for line in  lines.rstrip().split(\"\\n\"):\n",
        "            if line == \"\": \n",
        "                continue\n",
        "            surface, attr = line.split(\"\\t\")\n",
        "            if surface == \"\":\n",
        "               continue\n",
        "            attr = attr.strip().split(\",\")\n",
        "            morphs.append({\n",
        "                \"surface\": surface,\n",
        "                \"base\": attr[6],\n",
        "                \"pos\": attr[0],\n",
        "                \"pos1\": attr[1]\n",
        "            })\n",
        "        if len(morphs) > 0:\n",
        "            d.append(morphs)\n",
        "\n",
        "d"
      ],
      "execution_count": null,
      "outputs": []
    },
    {
      "cell_type": "markdown",
      "metadata": {
        "id": "Qe2wAkN3qKuO"
      },
      "source": [
        "### 31. 動詞"
      ]
    },
    {
      "cell_type": "code",
      "metadata": {
        "id": "ZY9tldYcqKuO"
      },
      "source": [
        "verb_surfaces = []\n",
        "for y in d:\n",
        "    for x in y:\n",
        "        if x[\"pos\"] == \"動詞\":\n",
        "            verb_surfaces.append(x[\"surface\"])\n",
        "            \n",
        "verb_surfaces"
      ],
      "execution_count": null,
      "outputs": []
    },
    {
      "cell_type": "markdown",
      "metadata": {
        "id": "J1DqVGFkqKuO"
      },
      "source": [
        "### 32. 動詞の基本形"
      ]
    },
    {
      "cell_type": "code",
      "metadata": {
        "id": "b3kXC_nAqKuP"
      },
      "source": [
        "verb_bases = []\n",
        "for y in d:\n",
        "    for x in y:\n",
        "        if x[\"pos\"] == \"動詞\":\n",
        "            verb_bases.append(x[\"base\"])\n",
        "            \n",
        "verb_bases"
      ],
      "execution_count": null,
      "outputs": []
    },
    {
      "cell_type": "markdown",
      "metadata": {
        "id": "sa_0n_1kqKuP"
      },
      "source": [
        "### 33. 「AのB」"
      ]
    },
    {
      "cell_type": "code",
      "metadata": {
        "id": "fbFnufV1qKuP"
      },
      "source": [
        "noun_of_nouns = []\n",
        "for y in d:\n",
        "    for i in range(2, len(y)):\n",
        "        if y[i-2][\"pos\"] == \"名詞\" and y[i-1][\"surface\"] == \"の\" and y[i][\"pos\"] == \"名詞\":\n",
        "            noun_of_nouns.append(\"{}{}{}\".format(y[i-2][\"surface\"], y[i-1][\"surface\"], y[i][\"surface\"]))\n",
        "            \n",
        "noun_of_nouns"
      ],
      "execution_count": null,
      "outputs": []
    },
    {
      "cell_type": "markdown",
      "metadata": {
        "id": "W3P2vOzsqKuP"
      },
      "source": [
        "### 34. 名詞の連接"
      ]
    },
    {
      "cell_type": "code",
      "metadata": {
        "id": "8mofCnaUqKuQ"
      },
      "source": [
        "noun_articulations = []\n",
        "for y in d:\n",
        "    xs = []\n",
        "    for x in y:\n",
        "        if x[\"pos\"] == \"名詞\":\n",
        "            xs.append(x[\"surface\"])\n",
        "        else:\n",
        "            if len(xs) > 1:\n",
        "                noun_articulations.append(\"\".join(xs))\n",
        "                xs = []\n",
        "                \n",
        "noun_articulations"
      ],
      "execution_count": null,
      "outputs": []
    },
    {
      "cell_type": "markdown",
      "metadata": {
        "id": "Nixn09EsqKuQ"
      },
      "source": [
        "### 35. 単語の出現頻度"
      ]
    },
    {
      "cell_type": "code",
      "metadata": {
        "id": "QVqCTO2zqKuQ"
      },
      "source": [
        "wordcounts = {}\n",
        "for y in d:\n",
        "    for x in y:\n",
        "        wordcounts[x[\"surface\"]] = wordcounts.get(x[\"surface\"], 0) + 1\n",
        "        \n",
        "wordcounts = sorted(wordcounts.items(), key = lambda x:-x[1])\n",
        "wordcounts"
      ],
      "execution_count": null,
      "outputs": []
    },
    {
      "cell_type": "markdown",
      "metadata": {
        "id": "g1jdPxjFqKuQ"
      },
      "source": [
        "### 36. 頻度上位10語"
      ]
    },
    {
      "cell_type": "code",
      "metadata": {
        "id": "gPtS_P99qKuQ"
      },
      "source": [
        "x = [x_ for x_, _ in wordcounts[:10]]\n",
        "y = [y_ for _,  y_ in wordcounts[:10]]\n",
        "plt.bar(x, y)"
      ],
      "execution_count": null,
      "outputs": []
    },
    {
      "cell_type": "markdown",
      "metadata": {
        "id": "KDBlO9gcqKuQ"
      },
      "source": [
        "### 37. 「猫」と共起頻度の高い上位10語"
      ]
    },
    {
      "cell_type": "code",
      "metadata": {
        "id": "eKrBZiamqKuR"
      },
      "source": [
        "co_occurrences = {}\n",
        "for y in d:\n",
        "    flag = False\n",
        "    for x in y:\n",
        "        if x[\"surface\"] == \"猫\":\n",
        "            flag = True\n",
        "            break\n",
        "    if flag:\n",
        "        for x in y:\n",
        "            co_occurrences[x[\"surface\"]] = co_occurrences.get(x[\"surface\"], 0) + 1\n",
        "del co_occurrences[\"猫\"]\n",
        "\n",
        "co_occurrences = sorted(co_occurrences.items(), key = lambda x:-x[1])\n",
        "\n",
        "x = [x_ for x_, _ in co_occurrences[:10]]\n",
        "y = [y_ for _,  y_ in co_occurrences[:10]]\n",
        "plt.bar(x, y)"
      ],
      "execution_count": null,
      "outputs": []
    },
    {
      "cell_type": "markdown",
      "metadata": {
        "id": "iDithljKqKuR"
      },
      "source": [
        "### 38. ヒストグラム"
      ]
    },
    {
      "cell_type": "code",
      "metadata": {
        "id": "FKj8v2CcqKuR"
      },
      "source": [
        "x = [x_ for _, x_ in wordcounts]\n",
        "y = range(1, len(wordcounts)+1)\n",
        "plt.plot(x, y)"
      ],
      "execution_count": null,
      "outputs": []
    },
    {
      "cell_type": "markdown",
      "metadata": {
        "id": "UigsdXgZqKuR"
      },
      "source": [
        "### 39. Zipfの法則"
      ]
    },
    {
      "cell_type": "code",
      "metadata": {
        "id": "O8QtVE_nqKuR"
      },
      "source": [
        "plt.xscale(\"log\")\n",
        "plt.yscale(\"log\")\n",
        "plt.plot(x, y)"
      ],
      "execution_count": null,
      "outputs": []
    },
    {
      "cell_type": "code",
      "metadata": {
        "id": "TurQbDuoqKuS"
      },
      "source": [
        ""
      ],
      "execution_count": null,
      "outputs": []
    }
  ]
}