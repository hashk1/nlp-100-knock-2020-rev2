{
 "cells": [
  {
   "cell_type": "markdown",
   "metadata": {},
   "source": [
    "# 第4章: 形態素解析"
   ]
  },
  {
   "cell_type": "code",
   "execution_count": null,
   "metadata": {},
   "outputs": [],
   "source": [
    "# ライブラリ読み込み\n",
    "import matplotlib as mpl\n",
    "import matplotlib.pyplot as plt\n",
    "%matplotlib inline\n",
    "mpl.rcParams['font.family'] = 'AppleGothic'"
   ]
  },
  {
   "cell_type": "code",
   "execution_count": null,
   "metadata": {},
   "outputs": [],
   "source": [
    "# データ取得\n",
    "! wget https://nlp100.github.io/data/neko.txt"
   ]
  },
  {
   "cell_type": "code",
   "execution_count": null,
   "metadata": {},
   "outputs": [],
   "source": [
    "# 形態素解析\n",
    "! mecab neko.txt > neko.txt.mecab"
   ]
  },
  {
   "cell_type": "markdown",
   "metadata": {},
   "source": [
    "### 30. 形態素解析結果の読み込み"
   ]
  },
  {
   "cell_type": "code",
   "execution_count": null,
   "metadata": {},
   "outputs": [],
   "source": [
    "d = []\n",
    "with open(\"neko.txt.mecab\") as f:\n",
    "    for lines in f.read().split(\"EOS\\n\"):\n",
    "        morphs = []\n",
    "        for line in  lines.rstrip().split(\"\\n\"):\n",
    "            if line == \"\": \n",
    "                continue\n",
    "            surface, attr = line.split(\"\\t\")\n",
    "            if surface == \"\":\n",
    "               continue\n",
    "            attr = attr.strip().split(\",\")\n",
    "            morphs.append({\n",
    "                \"surface\": surface,\n",
    "                \"base\": attr[6],\n",
    "                \"pos\": attr[0],\n",
    "                \"pos1\": attr[1]\n",
    "            })\n",
    "        if len(morphs) > 0:\n",
    "            d.append(morphs)\n",
    "\n",
    "d"
   ]
  },
  {
   "cell_type": "markdown",
   "metadata": {},
   "source": [
    "### 31. 動詞"
   ]
  },
  {
   "cell_type": "code",
   "execution_count": null,
   "metadata": {},
   "outputs": [],
   "source": [
    "verb_surfaces = []\n",
    "for y in d:\n",
    "    for x in y:\n",
    "        if x[\"pos\"] == \"動詞\":\n",
    "            verb_surfaces.append(x[\"surface\"])\n",
    "            \n",
    "verb_surfaces"
   ]
  },
  {
   "cell_type": "markdown",
   "metadata": {},
   "source": [
    "### 32. 動詞の基本形"
   ]
  },
  {
   "cell_type": "code",
   "execution_count": null,
   "metadata": {},
   "outputs": [],
   "source": [
    "verb_bases = []\n",
    "for y in d:\n",
    "    for x in y:\n",
    "        if x[\"pos\"] == \"動詞\":\n",
    "            verb_bases.append(x[\"base\"])\n",
    "            \n",
    "verb_bases"
   ]
  },
  {
   "cell_type": "markdown",
   "metadata": {},
   "source": [
    "### 33. 「AのB」"
   ]
  },
  {
   "cell_type": "code",
   "execution_count": null,
   "metadata": {},
   "outputs": [],
   "source": [
    "noun_of_nouns = []\n",
    "for y in d:\n",
    "    for i in range(2, len(y)):\n",
    "        if y[i-2][\"pos\"] == \"名詞\" and y[i-1][\"surface\"] == \"の\" and y[i][\"pos\"] == \"名詞\":\n",
    "            noun_of_nouns.append(\"{}{}{}\".format(y[i-2][\"surface\"], y[i-1][\"surface\"], y[i][\"surface\"]))\n",
    "            \n",
    "noun_of_nouns"
   ]
  },
  {
   "cell_type": "markdown",
   "metadata": {},
   "source": [
    "### 34. 名詞の連接"
   ]
  },
  {
   "cell_type": "code",
   "execution_count": null,
   "metadata": {},
   "outputs": [],
   "source": [
    "noun_articulations = []\n",
    "for y in d:\n",
    "    xs = []\n",
    "    for x in y:\n",
    "        if x[\"pos\"] == \"名詞\":\n",
    "            xs.append(x[\"surface\"])\n",
    "        else:\n",
    "            if len(xs) > 1:\n",
    "                noun_articulations.append(\"\".join(xs))\n",
    "                xs = []\n",
    "                \n",
    "noun_articulations"
   ]
  },
  {
   "cell_type": "markdown",
   "metadata": {},
   "source": [
    "### 35. 単語の出現頻度"
   ]
  },
  {
   "cell_type": "code",
   "execution_count": null,
   "metadata": {},
   "outputs": [],
   "source": [
    "wordcounts = {}\n",
    "for y in d:\n",
    "    for x in y:\n",
    "        wordcounts[x[\"surface\"]] = wordcounts.get(x[\"surface\"], 0) + 1\n",
    "        \n",
    "wordcounts = sorted(wordcounts.items(), key = lambda x:-x[1])\n",
    "wordcounts"
   ]
  },
  {
   "cell_type": "markdown",
   "metadata": {},
   "source": [
    "### 36. 頻度上位10語"
   ]
  },
  {
   "cell_type": "code",
   "execution_count": null,
   "metadata": {},
   "outputs": [],
   "source": [
    "x = [x_ for x_, _ in wordcounts[:10]]\n",
    "y = [y_ for _,  y_ in wordcounts[:10]]\n",
    "plt.bar(x, y)"
   ]
  },
  {
   "cell_type": "markdown",
   "metadata": {},
   "source": [
    "### 37. 「猫」と共起頻度の高い上位10語"
   ]
  },
  {
   "cell_type": "code",
   "execution_count": null,
   "metadata": {},
   "outputs": [],
   "source": [
    "co_occurrences = {}\n",
    "for y in d:\n",
    "    flag = False\n",
    "    for x in y:\n",
    "        if x[\"surface\"] == \"猫\":\n",
    "            flag = True\n",
    "            break\n",
    "    if flag:\n",
    "        for x in y:\n",
    "            co_occurrences[x[\"surface\"]] = co_occurrences.get(x[\"surface\"], 0) + 1\n",
    "del co_occurrences[\"猫\"]\n",
    "\n",
    "co_occurrences = sorted(co_occurrences.items(), key = lambda x:-x[1])\n",
    "\n",
    "x = [x_ for x_, _ in co_occurrences[:10]]\n",
    "y = [y_ for _,  y_ in co_occurrences[:10]]\n",
    "plt.bar(x, y)"
   ]
  },
  {
   "cell_type": "markdown",
   "metadata": {},
   "source": [
    "### 38. ヒストグラム"
   ]
  },
  {
   "cell_type": "code",
   "execution_count": null,
   "metadata": {},
   "outputs": [],
   "source": [
    "x = [x_ for _, x_ in wordcounts]\n",
    "y = range(1, len(wordcounts)+1)\n",
    "plt.plot(x, y)"
   ]
  },
  {
   "cell_type": "markdown",
   "metadata": {},
   "source": [
    "### 39. Zipfの法則"
   ]
  },
  {
   "cell_type": "code",
   "execution_count": null,
   "metadata": {},
   "outputs": [],
   "source": [
    "plt.xscale(\"log\")\n",
    "plt.yscale(\"log\")\n",
    "plt.plot(x, y)"
   ]
  },
  {
   "cell_type": "code",
   "execution_count": null,
   "metadata": {},
   "outputs": [],
   "source": []
  }
 ],
 "metadata": {
  "kernelspec": {
   "display_name": "Python 3",
   "language": "python",
   "name": "python3"
  },
  "language_info": {
   "codemirror_mode": {
    "name": "ipython",
    "version": 3
   },
   "file_extension": ".py",
   "mimetype": "text/x-python",
   "name": "python",
   "nbconvert_exporter": "python",
   "pygments_lexer": "ipython3",
   "version": "3.8.3"
  }
 },
 "nbformat": 4,
 "nbformat_minor": 4
}
