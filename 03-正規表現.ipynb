{
  "nbformat": 4,
  "nbformat_minor": 0,
  "metadata": {
    "kernelspec": {
      "display_name": "Python 3",
      "language": "python",
      "name": "python3"
    },
    "language_info": {
      "codemirror_mode": {
        "name": "ipython",
        "version": 3
      },
      "file_extension": ".py",
      "mimetype": "text/x-python",
      "name": "python",
      "nbconvert_exporter": "python",
      "pygments_lexer": "ipython3",
      "version": "3.8.3"
    },
    "colab": {
      "name": "03-正規表現.ipynb",
      "provenance": [],
      "include_colab_link": true
    }
  },
  "cells": [
    {
      "cell_type": "markdown",
      "metadata": {
        "id": "view-in-github",
        "colab_type": "text"
      },
      "source": [
        "<a href=\"https://colab.research.google.com/github/hashk1/nlp-100-knock-2020-rev2/blob/main/03-%E6%AD%A3%E8%A6%8F%E8%A1%A8%E7%8F%BE.ipynb\" target=\"_parent\"><img src=\"https://colab.research.google.com/assets/colab-badge.svg\" alt=\"Open In Colab\"/></a>"
      ]
    },
    {
      "cell_type": "markdown",
      "metadata": {
        "id": "nTUpu0dClyGE"
      },
      "source": [
        "# 第3章: 正規表現"
      ]
    },
    {
      "cell_type": "code",
      "metadata": {
        "id": "LK1RbtV0lyGJ"
      },
      "source": [
        "# ライブラリ読み込み\n",
        "import pandas as pd\n",
        "import re\n",
        "import requests\n",
        "import json\n",
        "from IPython.display import SVG"
      ],
      "execution_count": null,
      "outputs": []
    },
    {
      "cell_type": "code",
      "metadata": {
        "id": "ppICUnkzlyGK"
      },
      "source": [
        "# データ取得\n",
        "! wget -c https://nlp100.github.io/data/jawiki-country.json.gz"
      ],
      "execution_count": null,
      "outputs": []
    },
    {
      "cell_type": "markdown",
      "metadata": {
        "id": "W2JSI-YjlyGL"
      },
      "source": [
        "### 20. JSONデータの読み込み"
      ]
    },
    {
      "cell_type": "code",
      "metadata": {
        "id": "Ts8g-r2LlyGL"
      },
      "source": [
        "pd.read_json(\"jawiki-country.json.gz\", lines=True).query(\"title == 'イギリス'\")[\"text\"].values[0]"
      ],
      "execution_count": null,
      "outputs": []
    },
    {
      "cell_type": "markdown",
      "metadata": {
        "id": "K8-MPLuglyGL"
      },
      "source": [
        "### 21. カテゴリ名を含む行を抽出"
      ]
    },
    {
      "cell_type": "code",
      "metadata": {
        "id": "IAofd_OclyGL"
      },
      "source": [
        "[x for x in pd.read_json(\"jawiki-country.json.gz\", lines=True).query(\"title == 'イギリス'\")[\"text\"].values[0].split(\"\\n\") if \"[[Category:\" in x]"
      ],
      "execution_count": null,
      "outputs": []
    },
    {
      "cell_type": "markdown",
      "metadata": {
        "id": "hECoUnoIlyGM"
      },
      "source": [
        "### 22. カテゴリ名の抽出"
      ]
    },
    {
      "cell_type": "code",
      "metadata": {
        "id": "A2XhGY3flyGM"
      },
      "source": [
        "[x.split(\":\")[1].split(\"|\")[0].replace(\"]\", \"\") for x in pd.read_json(\"jawiki-country.json.gz\", lines=True).query(\"title == 'イギリス'\")[\"text\"].values[0].split(\"\\n\") if \"[[Category:\" in x]"
      ],
      "execution_count": null,
      "outputs": []
    },
    {
      "cell_type": "markdown",
      "metadata": {
        "id": "OV_KYEnolyGM"
      },
      "source": [
        "### 23. セクション構造"
      ]
    },
    {
      "cell_type": "code",
      "metadata": {
        "id": "0HfSVUAYlyGM"
      },
      "source": [
        "[(x.replace(\"=\", \"\"), x.count(\"=\") // 2 - 1) for x in pd.read_json(\"jawiki-country.json.gz\", lines=True).query(\"title == 'イギリス'\")[\"text\"].values[0].split(\"\\n\") if \"==\" in x]"
      ],
      "execution_count": null,
      "outputs": []
    },
    {
      "cell_type": "markdown",
      "metadata": {
        "id": "SraiX9iBlyGN"
      },
      "source": [
        "### 24. ファイル参照の抽出"
      ]
    },
    {
      "cell_type": "code",
      "metadata": {
        "id": "z21yS60rlyGN"
      },
      "source": [
        "[x.split(\":\")[1].split(\"|\")[0].replace(\"]\", \"\").replace(\"}\", \"\") for x in pd.read_json(\"jawiki-country.json.gz\", lines=True).query(\"title == 'イギリス'\")[\"text\"].values[0].split(\"\\n\") if \"[ファイル:\" in x]"
      ],
      "execution_count": null,
      "outputs": []
    },
    {
      "cell_type": "markdown",
      "metadata": {
        "id": "kyPJMzgdlyGN"
      },
      "source": [
        "### 25. テンプレートの抽出"
      ]
    },
    {
      "cell_type": "code",
      "metadata": {
        "id": "EBdmug4VlyGN"
      },
      "source": [
        "d = {}\n",
        "for x in pd.read_json(\"jawiki-country.json.gz\", lines=True).query(\"title == 'イギリス'\")[\"text\"].values[0].split(\"\\n\"):\n",
        "    if \"==\" in x: break\n",
        "    if not x.startswith(\"|\"): continue\n",
        "    y = x[1:].split(\"=\")\n",
        "    if len(y) < 2: continue\n",
        "    d[y[0].strip()] = \"=\".join(y[1:]).strip()\n",
        "d"
      ],
      "execution_count": null,
      "outputs": []
    },
    {
      "cell_type": "markdown",
      "metadata": {
        "id": "gkLrsg5xlyGN"
      },
      "source": [
        "### 26. 強調マークアップの除去"
      ]
    },
    {
      "cell_type": "code",
      "metadata": {
        "id": "P6_q3RFSlyGN"
      },
      "source": [
        "d = {}\n",
        "for x in pd.read_json(\"jawiki-country.json.gz\", lines=True).query(\"title == 'イギリス'\")[\"text\"].values[0].split(\"\\n\"):\n",
        "    if \"==\" in x: break\n",
        "    if not x.startswith(\"|\"): continue\n",
        "    y = x[1:].split(\"=\")\n",
        "    if len(y) < 2: continue\n",
        "    d[y[0].strip()] = \"=\".join(y[1:]).strip().replace(\"'\", \"\")\n",
        "d"
      ],
      "execution_count": null,
      "outputs": []
    },
    {
      "cell_type": "markdown",
      "metadata": {
        "id": "W_jXTPrQlyGO"
      },
      "source": [
        "### 27. 内部リンクの除去"
      ]
    },
    {
      "cell_type": "code",
      "metadata": {
        "id": "7tIxgBunlyGO"
      },
      "source": [
        "d = {}\n",
        "for x in pd.read_json(\"jawiki-country.json.gz\", lines=True).query(\"title == 'イギリス'\")[\"text\"].values[0].split(\"\\n\"):\n",
        "    if \"==\" in x: break\n",
        "    if not x.startswith(\"|\"): continue\n",
        "    y = x[1:].split(\"=\")\n",
        "    if len(y) < 2: continue\n",
        "    yy = \"=\".join(y[1:]).strip().replace(\"'\", \"\")\n",
        "    yy = re.subn(\"\\[\\[[^\\]\\{]*\\|\", \"\",  yy, 1000)[0]\n",
        "    yy = yy.replace(\"[[\", \"\").replace(\"]]\", \"\")\n",
        "    d[y[0].strip()] = yy\n",
        "d"
      ],
      "execution_count": null,
      "outputs": []
    },
    {
      "cell_type": "markdown",
      "metadata": {
        "id": "64sG8W2XlyGO"
      },
      "source": [
        "### 28. MediaWikiマークアップの除去"
      ]
    },
    {
      "cell_type": "code",
      "metadata": {
        "id": "jQvV9YIDlyGP"
      },
      "source": [
        "d = {}\n",
        "for x in pd.read_json(\"jawiki-country.json.gz\", lines=True).query(\"title == 'イギリス'\")[\"text\"].values[0].split(\"\\n\"):\n",
        "    if \"==\" in x: break\n",
        "    if not x.startswith(\"|\"): continue\n",
        "    y = x[1:].split(\"=\")\n",
        "    if len(y) < 2: continue\n",
        "    yy = \"=\".join(y[1:]).strip().replace(\"'\", \"\")\n",
        "    yy = re.subn(\"\\[\\[ファイル:[^\\]]*\\]\\]\", \"\",  yy, 1000)[0]\n",
        "    yy = re.subn(\"\\[\\[[^\\]\\{]*\\|\", \"\",  yy, 1000)[0]\n",
        "    yy = yy.replace(\"[[\", \"\").replace(\"]]\", \"\")\n",
        "    yy = re.subn(\"<ref(.)*\\/ref>\", \"\",  yy, 1000)[0]\n",
        "    yy = re.subn(\"<ref(.)*\\/>\", \"\",  yy, 1000)[0]\n",
        "    yy = yy.replace(\"{{0}}\", \"\")\n",
        "    yy = re.subn(\"\\{\\{[^\\}\\[]*\\|\", \"\",  yy, 1000)[0]\n",
        "    yy = yy.replace(\"{{\", \"\").replace(\"}}\", \"\")\n",
        "    yy = yy.replace(\"<br\", \"\").replace(\"/>\", \"\")\n",
        "    d[y[0].strip()] = yy\n",
        "d"
      ],
      "execution_count": null,
      "outputs": []
    },
    {
      "cell_type": "markdown",
      "metadata": {
        "id": "IPBIOwzjlyGP"
      },
      "source": [
        "### 29. 国旗画像のURLを取得する"
      ]
    },
    {
      "cell_type": "code",
      "metadata": {
        "id": "GQEs8I-llyGP"
      },
      "source": [
        "url = \"https://commons.wikimedia.org/w/api.php?action=query&titles=File:{}&prop=imageinfo&iiprop=url&format=json\".format(d[\"国旗画像\"])\n",
        "img_json = json.loads(requests.get(url).text)\n",
        "key = [k for k in img_json[\"query\"][\"pages\"].keys()][0]\n",
        "img_url = img_json[\"query\"][\"pages\"][key][\"imageinfo\"][0][\"url\"]\n",
        "img_url"
      ],
      "execution_count": null,
      "outputs": []
    },
    {
      "cell_type": "code",
      "metadata": {
        "id": "KcsitZHUlyGP"
      },
      "source": [
        "SVG(img_url)"
      ],
      "execution_count": null,
      "outputs": []
    },
    {
      "cell_type": "code",
      "metadata": {
        "id": "-X0nU6LjohNZ"
      },
      "source": [
        ""
      ],
      "execution_count": null,
      "outputs": []
    }
  ]
}