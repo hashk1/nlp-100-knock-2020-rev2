{
 "cells": [
  {
   "cell_type": "markdown",
   "metadata": {},
   "source": [
    "# 第3章: 正規表現"
   ]
  },
  {
   "cell_type": "code",
   "execution_count": null,
   "metadata": {},
   "outputs": [],
   "source": [
    "# ライブラリ読み込み\n",
    "import pandas as pd\n",
    "import re\n",
    "import requests\n",
    "import json"
   ]
  },
  {
   "cell_type": "code",
   "execution_count": null,
   "metadata": {},
   "outputs": [],
   "source": [
    "# データ取得\n",
    "! wget https://nlp100.github.io/data/jawiki-country.json.gz"
   ]
  },
  {
   "cell_type": "markdown",
   "metadata": {},
   "source": [
    "### 20. JSONデータの読み込み"
   ]
  },
  {
   "cell_type": "code",
   "execution_count": null,
   "metadata": {},
   "outputs": [],
   "source": [
    "pd.read_json(\"jawiki-country.json.gz\", lines=True).query(\"title == 'イギリス'\")[\"text\"].values[0]"
   ]
  },
  {
   "cell_type": "markdown",
   "metadata": {},
   "source": [
    "### 21. カテゴリ名を含む行を抽出"
   ]
  },
  {
   "cell_type": "code",
   "execution_count": null,
   "metadata": {},
   "outputs": [],
   "source": [
    "[x for x in pd.read_json(\"jawiki-country.json.gz\", lines=True).query(\"title == 'イギリス'\")[\"text\"].values[0].split(\"\\n\") if \"[[Category:\" in x]"
   ]
  },
  {
   "cell_type": "markdown",
   "metadata": {},
   "source": [
    "### 22. カテゴリ名の抽出"
   ]
  },
  {
   "cell_type": "code",
   "execution_count": null,
   "metadata": {},
   "outputs": [],
   "source": [
    "[x.split(\":\")[1].split(\"|\")[0].replace(\"]\", \"\") for x in pd.read_json(\"jawiki-country.json.gz\", lines=True).query(\"title == 'イギリス'\")[\"text\"].values[0].split(\"\\n\") if \"[[Category:\" in x]"
   ]
  },
  {
   "cell_type": "markdown",
   "metadata": {},
   "source": [
    "### 23. セクション構造"
   ]
  },
  {
   "cell_type": "code",
   "execution_count": null,
   "metadata": {},
   "outputs": [],
   "source": [
    "[(x.replace(\"=\", \"\"), x.count(\"=\") // 2 - 1) for x in pd.read_json(\"jawiki-country.json.gz\", lines=True).query(\"title == 'イギリス'\")[\"text\"].values[0].split(\"\\n\") if \"==\" in x]"
   ]
  },
  {
   "cell_type": "markdown",
   "metadata": {},
   "source": [
    "### 24. ファイル参照の抽出"
   ]
  },
  {
   "cell_type": "code",
   "execution_count": null,
   "metadata": {},
   "outputs": [],
   "source": [
    "[x.split(\":\")[1].split(\"|\")[0].replace(\"]\", \"\").replace(\"}\", \"\") for x in pd.read_json(\"jawiki-country.json.gz\", lines=True).query(\"title == 'イギリス'\")[\"text\"].values[0].split(\"\\n\") if \"[ファイル:\" in x]"
   ]
  },
  {
   "cell_type": "markdown",
   "metadata": {},
   "source": [
    "### 25. テンプレートの抽出"
   ]
  },
  {
   "cell_type": "code",
   "execution_count": null,
   "metadata": {},
   "outputs": [],
   "source": [
    "d = {}\n",
    "for x in pd.read_json(\"jawiki-country.json.gz\", lines=True).query(\"title == 'イギリス'\")[\"text\"].values[0].split(\"\\n\"):\n",
    "    if \"==\" in x: break\n",
    "    if not x.startswith(\"|\"): continue\n",
    "    y = x[1:].split(\"=\")\n",
    "    if len(y) < 2: continue\n",
    "    d[y[0].strip()] = \"=\".join(y[1:]).strip()\n",
    "d"
   ]
  },
  {
   "cell_type": "markdown",
   "metadata": {},
   "source": [
    "### 26. 強調マークアップの除去"
   ]
  },
  {
   "cell_type": "code",
   "execution_count": null,
   "metadata": {},
   "outputs": [],
   "source": [
    "d = {}\n",
    "for x in pd.read_json(\"jawiki-country.json.gz\", lines=True).query(\"title == 'イギリス'\")[\"text\"].values[0].split(\"\\n\"):\n",
    "    if \"==\" in x: break\n",
    "    if not x.startswith(\"|\"): continue\n",
    "    y = x[1:].split(\"=\")\n",
    "    if len(y) < 2: continue\n",
    "    d[y[0].strip()] = \"=\".join(y[1:]).strip().replace(\"'\", \"\")\n",
    "d"
   ]
  },
  {
   "cell_type": "markdown",
   "metadata": {},
   "source": [
    "### 27. 内部リンクの除去"
   ]
  },
  {
   "cell_type": "code",
   "execution_count": null,
   "metadata": {},
   "outputs": [],
   "source": [
    "d = {}\n",
    "for x in pd.read_json(\"jawiki-country.json.gz\", lines=True).query(\"title == 'イギリス'\")[\"text\"].values[0].split(\"\\n\"):\n",
    "    if \"==\" in x: break\n",
    "    if not x.startswith(\"|\"): continue\n",
    "    y = x[1:].split(\"=\")\n",
    "    if len(y) < 2: continue\n",
    "    yy = \"=\".join(y[1:]).strip().replace(\"'\", \"\")\n",
    "    yy = re.subn(\"\\[\\[[^\\]\\{]*\\|\", \"\",  yy, 1000)[0]\n",
    "    yy = yy.replace(\"[[\", \"\").replace(\"]]\", \"\")\n",
    "    d[y[0].strip()] = yy\n",
    "d"
   ]
  },
  {
   "cell_type": "markdown",
   "metadata": {},
   "source": [
    "### 28. MediaWikiマークアップの除去"
   ]
  },
  {
   "cell_type": "code",
   "execution_count": null,
   "metadata": {},
   "outputs": [],
   "source": [
    "d = {}\n",
    "for x in pd.read_json(\"jawiki-country.json.gz\", lines=True).query(\"title == 'イギリス'\")[\"text\"].values[0].split(\"\\n\"):\n",
    "    if \"==\" in x: break\n",
    "    if not x.startswith(\"|\"): continue\n",
    "    y = x[1:].split(\"=\")\n",
    "    if len(y) < 2: continue\n",
    "    yy = \"=\".join(y[1:]).strip().replace(\"'\", \"\")\n",
    "    yy = re.subn(\"\\[\\[ファイル:[^\\]]*\\]\\]\", \"\",  yy, 1000)[0]\n",
    "    yy = re.subn(\"\\[\\[[^\\]\\{]*\\|\", \"\",  yy, 1000)[0]\n",
    "    yy = yy.replace(\"[[\", \"\").replace(\"]]\", \"\")\n",
    "    yy = re.subn(\"<ref(.)*\\/ref>\", \"\",  yy, 1000)[0]\n",
    "    yy = re.subn(\"<ref(.)*\\/>\", \"\",  yy, 1000)[0]\n",
    "    yy = yy.replace(\"{{0}}\", \"\")\n",
    "    yy = re.subn(\"\\{\\{[^\\}\\[]*\\|\", \"\",  yy, 1000)[0]\n",
    "    yy = yy.replace(\"{{\", \"\").replace(\"}}\", \"\")\n",
    "    yy = yy.replace(\"<br\", \"\").replace(\"/>\", \"\")\n",
    "    d[y[0].strip()] = yy\n",
    "d"
   ]
  },
  {
   "cell_type": "markdown",
   "metadata": {},
   "source": [
    "### 29. 国旗画像のURLを取得する"
   ]
  },
  {
   "cell_type": "code",
   "execution_count": null,
   "metadata": {},
   "outputs": [],
   "source": [
    "url = \"https://commons.wikimedia.org/w/api.php?action=query&titles=File:{}&prop=imageinfo&iiprop=url&format=json\".format(d[\"国旗画像\"])\n",
    "img_json = json.loads(requests.get(url).text)\n",
    "key = [k for k in img_json[\"query\"][\"pages\"].keys()][0]\n",
    "img_json[\"query\"][\"pages\"][key][\"imageinfo\"][0][\"url\"]"
   ]
  },
  {
   "cell_type": "code",
   "execution_count": null,
   "metadata": {},
   "outputs": [],
   "source": []
  }
 ],
 "metadata": {
  "kernelspec": {
   "display_name": "Python 3",
   "language": "python",
   "name": "python3"
  },
  "language_info": {
   "codemirror_mode": {
    "name": "ipython",
    "version": 3
   },
   "file_extension": ".py",
   "mimetype": "text/x-python",
   "name": "python",
   "nbconvert_exporter": "python",
   "pygments_lexer": "ipython3",
   "version": "3.8.3"
  }
 },
 "nbformat": 4,
 "nbformat_minor": 4
}
